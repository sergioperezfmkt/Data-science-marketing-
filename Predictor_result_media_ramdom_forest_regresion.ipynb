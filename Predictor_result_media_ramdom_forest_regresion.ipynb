{
  "nbformat": 4,
  "nbformat_minor": 0,
  "metadata": {
    "colab": {
      "name": "Predictor_result_media_ramdom_forest_regresion.ipynb",
      "provenance": [],
      "collapsed_sections": []
    },
    "kernelspec": {
      "name": "python3",
      "display_name": "Python 3"
    },
    "language_info": {
      "name": "python"
    }
  },
  "cells": [
    {
      "cell_type": "code",
      "source": [
        "#############################################################################################################################################################"
      ],
      "metadata": {
        "id": "Ro31RvJFwKN6"
      },
      "execution_count": null,
      "outputs": []
    },
    {
      "cell_type": "code",
      "source": [
        "##################################The data set is invented to protect the privacy of the company's data, therefore, these data will not be generalized correc, But if you run real data it works"
      ],
      "metadata": {
        "id": "TZwnZx9Avw5J"
      },
      "execution_count": null,
      "outputs": []
    },
    {
      "cell_type": "code",
      "source": [
        "#############################################################################################################################################################"
      ],
      "metadata": {
        "id": "2vxk0kR6wP9Q"
      },
      "execution_count": null,
      "outputs": []
    },
    {
      "cell_type": "markdown",
      "source": [
        "\n"
      ],
      "metadata": {
        "id": "6xIhj4B5dNAY"
      }
    },
    {
      "cell_type": "code",
      "execution_count": null,
      "metadata": {
        "id": "fZUj3VgodFo-"
      },
      "outputs": [],
      "source": [
        "#installations\n",
        "\n",
        "# load general python utilities\n",
        "import math\n",
        "import datetime\n",
        "import string\n",
        "\n",
        "from dateutil.relativedelta import *\n",
        "\n",
        "# load modules for working with data\n",
        "import pandas as pd\n",
        "import numpy as np\n",
        "\n",
        "# load modules for visualizations\n",
        "import seaborn as sns\n",
        "import matplotlib.pyplot as plt\n",
        "\n",
        "from sklearn.preprocessing import StandardScaler\n",
        "from sklearn.ensemble import RandomForestRegressor\n",
        "from sklearn import linear_model\n",
        "from sklearn.metrics import mean_absolute_error, mean_squared_error, r2_score\n",
        "from sklearn.model_selection import train_test_split\n",
        "\n",
        "# load modules for statistical computations\n",
        "from patsy import dmatrices\n",
        "\n",
        "from statsmodels.stats.outliers_influence import variance_inflation_factor\n",
        "import statsmodels.formula.api as sm\n",
        "\n",
        "\n",
        "# ML Libraries\n",
        "from sklearn.metrics import confusion_matrix\n",
        "from sklearn.model_selection import train_test_split\n",
        "import sklearn.metrics as metrics"
      ]
    },
    {
      "cell_type": "code",
      "source": [
        "# load media spends and sales volume data and save into data frame\n",
        "media_spends_sales = pd.read_excel(\"/content/pruebas.xlsx\")\n",
        "# check for columns with missing data\n",
        "media_spends_sales.isnull().any()"
      ],
      "metadata": {
        "colab": {
          "base_uri": "https://localhost:8080/"
        },
        "id": "KHkOrxL2dVz6",
        "outputId": "1638d8dc-51a8-45c8-c827-67395157f804"
      },
      "execution_count": null,
      "outputs": [
        {
          "output_type": "execute_result",
          "data": {
            "text/plain": [
              "Calendar_Week            False\n",
              "Paid_Views               False\n",
              "Organic_Views            False\n",
              "Google_Impressions       False\n",
              "Email_Impressions        False\n",
              "Facebook_Impressions     False\n",
              "Affiliate_Impressions    False\n",
              "Overall_Views            False\n",
              "Sales                    False\n",
              "dtype: bool"
            ]
          },
          "metadata": {},
          "execution_count": 6
        }
      ]
    },
    {
      "cell_type": "code",
      "source": [
        "# glimpse data values\n",
        "media_spends_sales.head()"
      ],
      "metadata": {
        "colab": {
          "base_uri": "https://localhost:8080/",
          "height": 206
        },
        "id": "BBVEzH7-dhBf",
        "outputId": "1a63f1ca-0d91-4d3d-fdc0-797d52a03a4f"
      },
      "execution_count": null,
      "outputs": [
        {
          "output_type": "execute_result",
          "data": {
            "text/plain": [
              "  Calendar_Week  Paid_Views  Organic_Views  Google_Impressions  \\\n",
              "0    2018-01-03      341648         341599              341550   \n",
              "1    2018-01-04      341648         341599              341354   \n",
              "2    2018-01-05      341648         341599              341158   \n",
              "3    2018-01-06      341648         341599              340962   \n",
              "4    2018-01-07      341648         341599              340766   \n",
              "\n",
              "   Email_Impressions  Facebook_Impressions  Affiliate_Impressions  \\\n",
              "0             341354                341452                 341403   \n",
              "1             341354                341354                 341402   \n",
              "2             341354                341256                 341401   \n",
              "3             341354                341158                 341400   \n",
              "4             341354                341060                 341399   \n",
              "\n",
              "   Overall_Views   Sales  \n",
              "0         341354  341354  \n",
              "1         341353  341354  \n",
              "2         341352  341354  \n",
              "3         341351  341354  \n",
              "4         341350  341354  "
            ],
            "text/html": [
              "\n",
              "  <div id=\"df-1ad85ede-effc-492f-842a-651fe00ccc67\">\n",
              "    <div class=\"colab-df-container\">\n",
              "      <div>\n",
              "<style scoped>\n",
              "    .dataframe tbody tr th:only-of-type {\n",
              "        vertical-align: middle;\n",
              "    }\n",
              "\n",
              "    .dataframe tbody tr th {\n",
              "        vertical-align: top;\n",
              "    }\n",
              "\n",
              "    .dataframe thead th {\n",
              "        text-align: right;\n",
              "    }\n",
              "</style>\n",
              "<table border=\"1\" class=\"dataframe\">\n",
              "  <thead>\n",
              "    <tr style=\"text-align: right;\">\n",
              "      <th></th>\n",
              "      <th>Calendar_Week</th>\n",
              "      <th>Paid_Views</th>\n",
              "      <th>Organic_Views</th>\n",
              "      <th>Google_Impressions</th>\n",
              "      <th>Email_Impressions</th>\n",
              "      <th>Facebook_Impressions</th>\n",
              "      <th>Affiliate_Impressions</th>\n",
              "      <th>Overall_Views</th>\n",
              "      <th>Sales</th>\n",
              "    </tr>\n",
              "  </thead>\n",
              "  <tbody>\n",
              "    <tr>\n",
              "      <th>0</th>\n",
              "      <td>2018-01-03</td>\n",
              "      <td>341648</td>\n",
              "      <td>341599</td>\n",
              "      <td>341550</td>\n",
              "      <td>341354</td>\n",
              "      <td>341452</td>\n",
              "      <td>341403</td>\n",
              "      <td>341354</td>\n",
              "      <td>341354</td>\n",
              "    </tr>\n",
              "    <tr>\n",
              "      <th>1</th>\n",
              "      <td>2018-01-04</td>\n",
              "      <td>341648</td>\n",
              "      <td>341599</td>\n",
              "      <td>341354</td>\n",
              "      <td>341354</td>\n",
              "      <td>341354</td>\n",
              "      <td>341402</td>\n",
              "      <td>341353</td>\n",
              "      <td>341354</td>\n",
              "    </tr>\n",
              "    <tr>\n",
              "      <th>2</th>\n",
              "      <td>2018-01-05</td>\n",
              "      <td>341648</td>\n",
              "      <td>341599</td>\n",
              "      <td>341158</td>\n",
              "      <td>341354</td>\n",
              "      <td>341256</td>\n",
              "      <td>341401</td>\n",
              "      <td>341352</td>\n",
              "      <td>341354</td>\n",
              "    </tr>\n",
              "    <tr>\n",
              "      <th>3</th>\n",
              "      <td>2018-01-06</td>\n",
              "      <td>341648</td>\n",
              "      <td>341599</td>\n",
              "      <td>340962</td>\n",
              "      <td>341354</td>\n",
              "      <td>341158</td>\n",
              "      <td>341400</td>\n",
              "      <td>341351</td>\n",
              "      <td>341354</td>\n",
              "    </tr>\n",
              "    <tr>\n",
              "      <th>4</th>\n",
              "      <td>2018-01-07</td>\n",
              "      <td>341648</td>\n",
              "      <td>341599</td>\n",
              "      <td>340766</td>\n",
              "      <td>341354</td>\n",
              "      <td>341060</td>\n",
              "      <td>341399</td>\n",
              "      <td>341350</td>\n",
              "      <td>341354</td>\n",
              "    </tr>\n",
              "  </tbody>\n",
              "</table>\n",
              "</div>\n",
              "      <button class=\"colab-df-convert\" onclick=\"convertToInteractive('df-1ad85ede-effc-492f-842a-651fe00ccc67')\"\n",
              "              title=\"Convert this dataframe to an interactive table.\"\n",
              "              style=\"display:none;\">\n",
              "        \n",
              "  <svg xmlns=\"http://www.w3.org/2000/svg\" height=\"24px\"viewBox=\"0 0 24 24\"\n",
              "       width=\"24px\">\n",
              "    <path d=\"M0 0h24v24H0V0z\" fill=\"none\"/>\n",
              "    <path d=\"M18.56 5.44l.94 2.06.94-2.06 2.06-.94-2.06-.94-.94-2.06-.94 2.06-2.06.94zm-11 1L8.5 8.5l.94-2.06 2.06-.94-2.06-.94L8.5 2.5l-.94 2.06-2.06.94zm10 10l.94 2.06.94-2.06 2.06-.94-2.06-.94-.94-2.06-.94 2.06-2.06.94z\"/><path d=\"M17.41 7.96l-1.37-1.37c-.4-.4-.92-.59-1.43-.59-.52 0-1.04.2-1.43.59L10.3 9.45l-7.72 7.72c-.78.78-.78 2.05 0 2.83L4 21.41c.39.39.9.59 1.41.59.51 0 1.02-.2 1.41-.59l7.78-7.78 2.81-2.81c.8-.78.8-2.07 0-2.86zM5.41 20L4 18.59l7.72-7.72 1.47 1.35L5.41 20z\"/>\n",
              "  </svg>\n",
              "      </button>\n",
              "      \n",
              "  <style>\n",
              "    .colab-df-container {\n",
              "      display:flex;\n",
              "      flex-wrap:wrap;\n",
              "      gap: 12px;\n",
              "    }\n",
              "\n",
              "    .colab-df-convert {\n",
              "      background-color: #E8F0FE;\n",
              "      border: none;\n",
              "      border-radius: 50%;\n",
              "      cursor: pointer;\n",
              "      display: none;\n",
              "      fill: #1967D2;\n",
              "      height: 32px;\n",
              "      padding: 0 0 0 0;\n",
              "      width: 32px;\n",
              "    }\n",
              "\n",
              "    .colab-df-convert:hover {\n",
              "      background-color: #E2EBFA;\n",
              "      box-shadow: 0px 1px 2px rgba(60, 64, 67, 0.3), 0px 1px 3px 1px rgba(60, 64, 67, 0.15);\n",
              "      fill: #174EA6;\n",
              "    }\n",
              "\n",
              "    [theme=dark] .colab-df-convert {\n",
              "      background-color: #3B4455;\n",
              "      fill: #D2E3FC;\n",
              "    }\n",
              "\n",
              "    [theme=dark] .colab-df-convert:hover {\n",
              "      background-color: #434B5C;\n",
              "      box-shadow: 0px 1px 3px 1px rgba(0, 0, 0, 0.15);\n",
              "      filter: drop-shadow(0px 1px 2px rgba(0, 0, 0, 0.3));\n",
              "      fill: #FFFFFF;\n",
              "    }\n",
              "  </style>\n",
              "\n",
              "      <script>\n",
              "        const buttonEl =\n",
              "          document.querySelector('#df-1ad85ede-effc-492f-842a-651fe00ccc67 button.colab-df-convert');\n",
              "        buttonEl.style.display =\n",
              "          google.colab.kernel.accessAllowed ? 'block' : 'none';\n",
              "\n",
              "        async function convertToInteractive(key) {\n",
              "          const element = document.querySelector('#df-1ad85ede-effc-492f-842a-651fe00ccc67');\n",
              "          const dataTable =\n",
              "            await google.colab.kernel.invokeFunction('convertToInteractive',\n",
              "                                                     [key], {});\n",
              "          if (!dataTable) return;\n",
              "\n",
              "          const docLinkHtml = 'Like what you see? Visit the ' +\n",
              "            '<a target=\"_blank\" href=https://colab.research.google.com/notebooks/data_table.ipynb>data table notebook</a>'\n",
              "            + ' to learn more about interactive tables.';\n",
              "          element.innerHTML = '';\n",
              "          dataTable['output_type'] = 'display_data';\n",
              "          await google.colab.output.renderOutput(dataTable, element);\n",
              "          const docLink = document.createElement('div');\n",
              "          docLink.innerHTML = docLinkHtml;\n",
              "          element.appendChild(docLink);\n",
              "        }\n",
              "      </script>\n",
              "    </div>\n",
              "  </div>\n",
              "  "
            ]
          },
          "metadata": {},
          "execution_count": 7
        }
      ]
    },
    {
      "cell_type": "code",
      "source": [
        "# scale data to unit variance and zero mean\n",
        "\n",
        "media_spends_sales_scaled = media_spends_sales.copy()\n",
        "\n",
        "sc = StandardScaler()\n",
        "\n",
        "media_spends_sales_scaled.loc[:, \"Paid_Views\":\"Sales\"] = sc.fit_transform( media_spends_sales_scaled.loc[:, \"Paid_Views\":\"Sales\"])\n",
        "media_spends_sales_scaled.head()"
      ],
      "metadata": {
        "colab": {
          "base_uri": "https://localhost:8080/",
          "height": 206
        },
        "id": "rhuKtLRlegJ-",
        "outputId": "c6177919-ebad-40ab-98cd-b7435081e8a8"
      },
      "execution_count": null,
      "outputs": [
        {
          "output_type": "execute_result",
          "data": {
            "text/plain": [
              "  Calendar_Week  Paid_Views  Organic_Views  Google_Impressions  \\\n",
              "0    2018-01-03         0.0            0.0            1.697749   \n",
              "1    2018-01-04         0.0            0.0            1.628453   \n",
              "2    2018-01-05         0.0            0.0            1.559158   \n",
              "3    2018-01-06         0.0            0.0            1.489862   \n",
              "4    2018-01-07         0.0            0.0            1.420566   \n",
              "\n",
              "   Email_Impressions  Facebook_Impressions  Affiliate_Impressions  \\\n",
              "0                0.0              1.697749               1.697749   \n",
              "1                0.0              1.628453               1.628453   \n",
              "2                0.0              1.559158               1.559158   \n",
              "3                0.0              1.489862               1.489862   \n",
              "4                0.0              1.420566               1.420566   \n",
              "\n",
              "   Overall_Views  Sales  \n",
              "0       1.697749    0.0  \n",
              "1       1.628453    0.0  \n",
              "2       1.559158    0.0  \n",
              "3       1.489862    0.0  \n",
              "4       1.420566    0.0  "
            ],
            "text/html": [
              "\n",
              "  <div id=\"df-dce291de-10ed-454e-aee8-55dcbfff34fd\">\n",
              "    <div class=\"colab-df-container\">\n",
              "      <div>\n",
              "<style scoped>\n",
              "    .dataframe tbody tr th:only-of-type {\n",
              "        vertical-align: middle;\n",
              "    }\n",
              "\n",
              "    .dataframe tbody tr th {\n",
              "        vertical-align: top;\n",
              "    }\n",
              "\n",
              "    .dataframe thead th {\n",
              "        text-align: right;\n",
              "    }\n",
              "</style>\n",
              "<table border=\"1\" class=\"dataframe\">\n",
              "  <thead>\n",
              "    <tr style=\"text-align: right;\">\n",
              "      <th></th>\n",
              "      <th>Calendar_Week</th>\n",
              "      <th>Paid_Views</th>\n",
              "      <th>Organic_Views</th>\n",
              "      <th>Google_Impressions</th>\n",
              "      <th>Email_Impressions</th>\n",
              "      <th>Facebook_Impressions</th>\n",
              "      <th>Affiliate_Impressions</th>\n",
              "      <th>Overall_Views</th>\n",
              "      <th>Sales</th>\n",
              "    </tr>\n",
              "  </thead>\n",
              "  <tbody>\n",
              "    <tr>\n",
              "      <th>0</th>\n",
              "      <td>2018-01-03</td>\n",
              "      <td>0.0</td>\n",
              "      <td>0.0</td>\n",
              "      <td>1.697749</td>\n",
              "      <td>0.0</td>\n",
              "      <td>1.697749</td>\n",
              "      <td>1.697749</td>\n",
              "      <td>1.697749</td>\n",
              "      <td>0.0</td>\n",
              "    </tr>\n",
              "    <tr>\n",
              "      <th>1</th>\n",
              "      <td>2018-01-04</td>\n",
              "      <td>0.0</td>\n",
              "      <td>0.0</td>\n",
              "      <td>1.628453</td>\n",
              "      <td>0.0</td>\n",
              "      <td>1.628453</td>\n",
              "      <td>1.628453</td>\n",
              "      <td>1.628453</td>\n",
              "      <td>0.0</td>\n",
              "    </tr>\n",
              "    <tr>\n",
              "      <th>2</th>\n",
              "      <td>2018-01-05</td>\n",
              "      <td>0.0</td>\n",
              "      <td>0.0</td>\n",
              "      <td>1.559158</td>\n",
              "      <td>0.0</td>\n",
              "      <td>1.559158</td>\n",
              "      <td>1.559158</td>\n",
              "      <td>1.559158</td>\n",
              "      <td>0.0</td>\n",
              "    </tr>\n",
              "    <tr>\n",
              "      <th>3</th>\n",
              "      <td>2018-01-06</td>\n",
              "      <td>0.0</td>\n",
              "      <td>0.0</td>\n",
              "      <td>1.489862</td>\n",
              "      <td>0.0</td>\n",
              "      <td>1.489862</td>\n",
              "      <td>1.489862</td>\n",
              "      <td>1.489862</td>\n",
              "      <td>0.0</td>\n",
              "    </tr>\n",
              "    <tr>\n",
              "      <th>4</th>\n",
              "      <td>2018-01-07</td>\n",
              "      <td>0.0</td>\n",
              "      <td>0.0</td>\n",
              "      <td>1.420566</td>\n",
              "      <td>0.0</td>\n",
              "      <td>1.420566</td>\n",
              "      <td>1.420566</td>\n",
              "      <td>1.420566</td>\n",
              "      <td>0.0</td>\n",
              "    </tr>\n",
              "  </tbody>\n",
              "</table>\n",
              "</div>\n",
              "      <button class=\"colab-df-convert\" onclick=\"convertToInteractive('df-dce291de-10ed-454e-aee8-55dcbfff34fd')\"\n",
              "              title=\"Convert this dataframe to an interactive table.\"\n",
              "              style=\"display:none;\">\n",
              "        \n",
              "  <svg xmlns=\"http://www.w3.org/2000/svg\" height=\"24px\"viewBox=\"0 0 24 24\"\n",
              "       width=\"24px\">\n",
              "    <path d=\"M0 0h24v24H0V0z\" fill=\"none\"/>\n",
              "    <path d=\"M18.56 5.44l.94 2.06.94-2.06 2.06-.94-2.06-.94-.94-2.06-.94 2.06-2.06.94zm-11 1L8.5 8.5l.94-2.06 2.06-.94-2.06-.94L8.5 2.5l-.94 2.06-2.06.94zm10 10l.94 2.06.94-2.06 2.06-.94-2.06-.94-.94-2.06-.94 2.06-2.06.94z\"/><path d=\"M17.41 7.96l-1.37-1.37c-.4-.4-.92-.59-1.43-.59-.52 0-1.04.2-1.43.59L10.3 9.45l-7.72 7.72c-.78.78-.78 2.05 0 2.83L4 21.41c.39.39.9.59 1.41.59.51 0 1.02-.2 1.41-.59l7.78-7.78 2.81-2.81c.8-.78.8-2.07 0-2.86zM5.41 20L4 18.59l7.72-7.72 1.47 1.35L5.41 20z\"/>\n",
              "  </svg>\n",
              "      </button>\n",
              "      \n",
              "  <style>\n",
              "    .colab-df-container {\n",
              "      display:flex;\n",
              "      flex-wrap:wrap;\n",
              "      gap: 12px;\n",
              "    }\n",
              "\n",
              "    .colab-df-convert {\n",
              "      background-color: #E8F0FE;\n",
              "      border: none;\n",
              "      border-radius: 50%;\n",
              "      cursor: pointer;\n",
              "      display: none;\n",
              "      fill: #1967D2;\n",
              "      height: 32px;\n",
              "      padding: 0 0 0 0;\n",
              "      width: 32px;\n",
              "    }\n",
              "\n",
              "    .colab-df-convert:hover {\n",
              "      background-color: #E2EBFA;\n",
              "      box-shadow: 0px 1px 2px rgba(60, 64, 67, 0.3), 0px 1px 3px 1px rgba(60, 64, 67, 0.15);\n",
              "      fill: #174EA6;\n",
              "    }\n",
              "\n",
              "    [theme=dark] .colab-df-convert {\n",
              "      background-color: #3B4455;\n",
              "      fill: #D2E3FC;\n",
              "    }\n",
              "\n",
              "    [theme=dark] .colab-df-convert:hover {\n",
              "      background-color: #434B5C;\n",
              "      box-shadow: 0px 1px 3px 1px rgba(0, 0, 0, 0.15);\n",
              "      filter: drop-shadow(0px 1px 2px rgba(0, 0, 0, 0.3));\n",
              "      fill: #FFFFFF;\n",
              "    }\n",
              "  </style>\n",
              "\n",
              "      <script>\n",
              "        const buttonEl =\n",
              "          document.querySelector('#df-dce291de-10ed-454e-aee8-55dcbfff34fd button.colab-df-convert');\n",
              "        buttonEl.style.display =\n",
              "          google.colab.kernel.accessAllowed ? 'block' : 'none';\n",
              "\n",
              "        async function convertToInteractive(key) {\n",
              "          const element = document.querySelector('#df-dce291de-10ed-454e-aee8-55dcbfff34fd');\n",
              "          const dataTable =\n",
              "            await google.colab.kernel.invokeFunction('convertToInteractive',\n",
              "                                                     [key], {});\n",
              "          if (!dataTable) return;\n",
              "\n",
              "          const docLinkHtml = 'Like what you see? Visit the ' +\n",
              "            '<a target=\"_blank\" href=https://colab.research.google.com/notebooks/data_table.ipynb>data table notebook</a>'\n",
              "            + ' to learn more about interactive tables.';\n",
              "          element.innerHTML = '';\n",
              "          dataTable['output_type'] = 'display_data';\n",
              "          await google.colab.output.renderOutput(dataTable, element);\n",
              "          const docLink = document.createElement('div');\n",
              "          docLink.innerHTML = docLinkHtml;\n",
              "          element.appendChild(docLink);\n",
              "        }\n",
              "      </script>\n",
              "    </div>\n",
              "  </div>\n",
              "  "
            ]
          },
          "metadata": {},
          "execution_count": 8
        }
      ]
    },
    {
      "cell_type": "code",
      "source": [
        "# check for high correlations in data\n",
        "corr = media_spends_sales_scaled.corr()\n",
        "sns.heatmap(corr, xticklabels=corr.columns, yticklabels=corr.columns, annot=True,\n",
        "    cmap=sns.diverging_palette(220, 20, as_cmap=True),)"
      ],
      "metadata": {
        "colab": {
          "base_uri": "https://localhost:8080/",
          "height": 388
        },
        "id": "lGqQz-Cmevbw",
        "outputId": "e100314f-4a63-4fce-c61a-94fbdb0a8516"
      },
      "execution_count": null,
      "outputs": [
        {
          "output_type": "execute_result",
          "data": {
            "text/plain": [
              "<matplotlib.axes._subplots.AxesSubplot at 0x7fa6c6fe5b50>"
            ]
          },
          "metadata": {},
          "execution_count": 9
        },
        {
          "output_type": "display_data",
          "data": {
            "text/plain": [
              "<Figure size 432x288 with 2 Axes>"
            ],
            "image/png": "[encoded data removed]"
          },
          "metadata": {
            "needs_background": "light"
          }
        }
      ]
    },
    {
      "cell_type": "code",
      "source": [
        "# check for linear relationships between predictors and response\n",
        "sns.pairplot(media_spends_sales_scaled)"
      ],
      "metadata": {
        "id": "67fhzCp7e9T_",
        "colab": {
          "base_uri": "https://localhost:8080/",
          "height": 1000
        },
        "outputId": "60cbc2b5-58a3-42a6-b449-dd7f4c006364"
      },
      "execution_count": null,
      "outputs": [
        {
          "output_type": "execute_result",
          "data": {
            "text/plain": [
              "<seaborn.axisgrid.PairGrid at 0x7fa6c6d938d0>"
            ]
          },
          "metadata": {},
          "execution_count": 10
        },
        {
          "output_type": "display_data",
          "data": {
            "text/plain": [
              "<Figure size 1440x1440 with 72 Axes>"
            ],
            "image/png": "[encoded data removed]"
          },
          "metadata": {
            "needs_background": "light"
          }
        }
      ]
    },
    {
      "cell_type": "code",
      "source": [
        "# sort data chronologically and ignore original indexes\n",
        "media_spends_sales_scaled.sort_values(by=\"Calendar_Week\", inplace=True)\n",
        "media_spends_sales_scaled.head()"
      ],
      "metadata": {
        "colab": {
          "base_uri": "https://localhost:8080/",
          "height": 206
        },
        "id": "MGD_m_55fBK9",
        "outputId": "0e681bad-fc2c-42aa-fd3e-ad979b12b955"
      },
      "execution_count": null,
      "outputs": [
        {
          "output_type": "execute_result",
          "data": {
            "text/plain": [
              "  Calendar_Week  Paid_Views  Organic_Views  Google_Impressions  \\\n",
              "0    2018-01-03         0.0            0.0            1.697749   \n",
              "1    2018-01-04         0.0            0.0            1.628453   \n",
              "2    2018-01-05         0.0            0.0            1.559158   \n",
              "3    2018-01-06         0.0            0.0            1.489862   \n",
              "4    2018-01-07         0.0            0.0            1.420566   \n",
              "\n",
              "   Email_Impressions  Facebook_Impressions  Affiliate_Impressions  \\\n",
              "0                0.0              1.697749               1.697749   \n",
              "1                0.0              1.628453               1.628453   \n",
              "2                0.0              1.559158               1.559158   \n",
              "3                0.0              1.489862               1.489862   \n",
              "4                0.0              1.420566               1.420566   \n",
              "\n",
              "   Overall_Views  Sales  \n",
              "0       1.697749    0.0  \n",
              "1       1.628453    0.0  \n",
              "2       1.559158    0.0  \n",
              "3       1.489862    0.0  \n",
              "4       1.420566    0.0  "
            ],
            "text/html": [
              "\n",
              "  <div id=\"df-49739a8d-5dd8-4136-a63d-2f4686300dc2\">\n",
              "    <div class=\"colab-df-container\">\n",
              "      <div>\n",
              "<style scoped>\n",
              "    .dataframe tbody tr th:only-of-type {\n",
              "        vertical-align: middle;\n",
              "    }\n",
              "\n",
              "    .dataframe tbody tr th {\n",
              "        vertical-align: top;\n",
              "    }\n",
              "\n",
              "    .dataframe thead th {\n",
              "        text-align: right;\n",
              "    }\n",
              "</style>\n",
              "<table border=\"1\" class=\"dataframe\">\n",
              "  <thead>\n",
              "    <tr style=\"text-align: right;\">\n",
              "      <th></th>\n",
              "      <th>Calendar_Week</th>\n",
              "      <th>Paid_Views</th>\n",
              "      <th>Organic_Views</th>\n",
              "      <th>Google_Impressions</th>\n",
              "      <th>Email_Impressions</th>\n",
              "      <th>Facebook_Impressions</th>\n",
              "      <th>Affiliate_Impressions</th>\n",
              "      <th>Overall_Views</th>\n",
              "      <th>Sales</th>\n",
              "    </tr>\n",
              "  </thead>\n",
              "  <tbody>\n",
              "    <tr>\n",
              "      <th>0</th>\n",
              "      <td>2018-01-03</td>\n",
              "      <td>0.0</td>\n",
              "      <td>0.0</td>\n",
              "      <td>1.697749</td>\n",
              "      <td>0.0</td>\n",
              "      <td>1.697749</td>\n",
              "      <td>1.697749</td>\n",
              "      <td>1.697749</td>\n",
              "      <td>0.0</td>\n",
              "    </tr>\n",
              "    <tr>\n",
              "      <th>1</th>\n",
              "      <td>2018-01-04</td>\n",
              "      <td>0.0</td>\n",
              "      <td>0.0</td>\n",
              "      <td>1.628453</td>\n",
              "      <td>0.0</td>\n",
              "      <td>1.628453</td>\n",
              "      <td>1.628453</td>\n",
              "      <td>1.628453</td>\n",
              "      <td>0.0</td>\n",
              "    </tr>\n",
              "    <tr>\n",
              "      <th>2</th>\n",
              "      <td>2018-01-05</td>\n",
              "      <td>0.0</td>\n",
              "      <td>0.0</td>\n",
              "      <td>1.559158</td>\n",
              "      <td>0.0</td>\n",
              "      <td>1.559158</td>\n",
              "      <td>1.559158</td>\n",
              "      <td>1.559158</td>\n",
              "      <td>0.0</td>\n",
              "    </tr>\n",
              "    <tr>\n",
              "      <th>3</th>\n",
              "      <td>2018-01-06</td>\n",
              "      <td>0.0</td>\n",
              "      <td>0.0</td>\n",
              "      <td>1.489862</td>\n",
              "      <td>0.0</td>\n",
              "      <td>1.489862</td>\n",
              "      <td>1.489862</td>\n",
              "      <td>1.489862</td>\n",
              "      <td>0.0</td>\n",
              "    </tr>\n",
              "    <tr>\n",
              "      <th>4</th>\n",
              "      <td>2018-01-07</td>\n",
              "      <td>0.0</td>\n",
              "      <td>0.0</td>\n",
              "      <td>1.420566</td>\n",
              "      <td>0.0</td>\n",
              "      <td>1.420566</td>\n",
              "      <td>1.420566</td>\n",
              "      <td>1.420566</td>\n",
              "      <td>0.0</td>\n",
              "    </tr>\n",
              "  </tbody>\n",
              "</table>\n",
              "</div>\n",
              "      <button class=\"colab-df-convert\" onclick=\"convertToInteractive('df-49739a8d-5dd8-4136-a63d-2f4686300dc2')\"\n",
              "              title=\"Convert this dataframe to an interactive table.\"\n",
              "              style=\"display:none;\">\n",
              "        \n",
              "  <svg xmlns=\"http://www.w3.org/2000/svg\" height=\"24px\"viewBox=\"0 0 24 24\"\n",
              "       width=\"24px\">\n",
              "    <path d=\"M0 0h24v24H0V0z\" fill=\"none\"/>\n",
              "    <path d=\"M18.56 5.44l.94 2.06.94-2.06 2.06-.94-2.06-.94-.94-2.06-.94 2.06-2.06.94zm-11 1L8.5 8.5l.94-2.06 2.06-.94-2.06-.94L8.5 2.5l-.94 2.06-2.06.94zm10 10l.94 2.06.94-2.06 2.06-.94-2.06-.94-.94-2.06-.94 2.06-2.06.94z\"/><path d=\"M17.41 7.96l-1.37-1.37c-.4-.4-.92-.59-1.43-.59-.52 0-1.04.2-1.43.59L10.3 9.45l-7.72 7.72c-.78.78-.78 2.05 0 2.83L4 21.41c.39.39.9.59 1.41.59.51 0 1.02-.2 1.41-.59l7.78-7.78 2.81-2.81c.8-.78.8-2.07 0-2.86zM5.41 20L4 18.59l7.72-7.72 1.47 1.35L5.41 20z\"/>\n",
              "  </svg>\n",
              "      </button>\n",
              "      \n",
              "  <style>\n",
              "    .colab-df-container {\n",
              "      display:flex;\n",
              "      flex-wrap:wrap;\n",
              "      gap: 12px;\n",
              "    }\n",
              "\n",
              "    .colab-df-convert {\n",
              "      background-color: #E8F0FE;\n",
              "      border: none;\n",
              "      border-radius: 50%;\n",
              "      cursor: pointer;\n",
              "      display: none;\n",
              "      fill: #1967D2;\n",
              "      height: 32px;\n",
              "      padding: 0 0 0 0;\n",
              "      width: 32px;\n",
              "    }\n",
              "\n",
              "    .colab-df-convert:hover {\n",
              "      background-color: #E2EBFA;\n",
              "      box-shadow: 0px 1px 2px rgba(60, 64, 67, 0.3), 0px 1px 3px 1px rgba(60, 64, 67, 0.15);\n",
              "      fill: #174EA6;\n",
              "    }\n",
              "\n",
              "    [theme=dark] .colab-df-convert {\n",
              "      background-color: #3B4455;\n",
              "      fill: #D2E3FC;\n",
              "    }\n",
              "\n",
              "    [theme=dark] .colab-df-convert:hover {\n",
              "      background-color: #434B5C;\n",
              "      box-shadow: 0px 1px 3px 1px rgba(0, 0, 0, 0.15);\n",
              "      filter: drop-shadow(0px 1px 2px rgba(0, 0, 0, 0.3));\n",
              "      fill: #FFFFFF;\n",
              "    }\n",
              "  </style>\n",
              "\n",
              "      <script>\n",
              "        const buttonEl =\n",
              "          document.querySelector('#df-49739a8d-5dd8-4136-a63d-2f4686300dc2 button.colab-df-convert');\n",
              "        buttonEl.style.display =\n",
              "          google.colab.kernel.accessAllowed ? 'block' : 'none';\n",
              "\n",
              "        async function convertToInteractive(key) {\n",
              "          const element = document.querySelector('#df-49739a8d-5dd8-4136-a63d-2f4686300dc2');\n",
              "          const dataTable =\n",
              "            await google.colab.kernel.invokeFunction('convertToInteractive',\n",
              "                                                     [key], {});\n",
              "          if (!dataTable) return;\n",
              "\n",
              "          const docLinkHtml = 'Like what you see? Visit the ' +\n",
              "            '<a target=\"_blank\" href=https://colab.research.google.com/notebooks/data_table.ipynb>data table notebook</a>'\n",
              "            + ' to learn more about interactive tables.';\n",
              "          element.innerHTML = '';\n",
              "          dataTable['output_type'] = 'display_data';\n",
              "          await google.colab.output.renderOutput(dataTable, element);\n",
              "          const docLink = document.createElement('div');\n",
              "          docLink.innerHTML = docLinkHtml;\n",
              "          element.appendChild(docLink);\n",
              "        }\n",
              "      </script>\n",
              "    </div>\n",
              "  </div>\n",
              "  "
            ]
          },
          "metadata": {},
          "execution_count": 11
        }
      ]
    },
    {
      "cell_type": "code",
      "source": [
        "x = media_spends_sales_scaled.loc[:, (media_spends_sales_scaled.columns != \"Sales\") & (media_spends_sales_scaled.columns != \"Calendar_Week\"),]\n",
        "y = media_spends_sales_scaled[\"Sales\"]"
      ],
      "metadata": {
        "id": "iyqT4Ie2i-29"
      },
      "execution_count": null,
      "outputs": []
    },
    {
      "cell_type": "code",
      "source": [
        "# divide the dataset into test and train based on the test_ratio parameter\n",
        "\n",
        "x_train, x_test, y_train, y_test = train_test_split(x,y,test_size=0.3,random_state=42)"
      ],
      "metadata": {
        "id": "9iKph7F-jQ1e"
      },
      "execution_count": null,
      "outputs": []
    },
    {
      "cell_type": "code",
      "source": [
        "# Fitting the Regression model to the dataset\n",
        "\n",
        "regressor = RandomForestRegressor(n_estimators = 300, random_state = 0)\n",
        "regressor.fit(x_train,y_train)\n",
        "\n",
        "# Predicting a new result with the Random Forest Regression\n",
        "\n",
        "y_pred = regressor.predict(x_test)"
      ],
      "metadata": {
        "id": "PAkj6RFslWYN"
      },
      "execution_count": null,
      "outputs": []
    },
    {
      "cell_type": "code",
      "source": [
        "print(confusion_matrix(y_test, y_pred))"
      ],
      "metadata": {
        "colab": {
          "base_uri": "https://localhost:8080/"
        },
        "id": "D2c8z7c3oFv7",
        "outputId": "a88e853e-b46e-4420-b02c-a160d0f06125"
      },
      "execution_count": null,
      "outputs": [
        {
          "output_type": "stream",
          "name": "stdout",
          "text": [
            "[[15]]\n"
          ]
        }
      ]
    },
    {
      "cell_type": "code",
      "source": [
        "print('Mean Absolute Error (MAE):', metrics.mean_absolute_error(y_test, y_pred))\n",
        "print('Mean Squared Error (MSE):', metrics.mean_squared_error(y_test, y_pred))\n",
        "print('Root Mean Squared Error (RMSE):', np.sqrt(metrics.mean_squared_error(y_test, y_pred)))\n",
        "mape = np.mean(np.abs((y_test - y_pred) / np.abs(y_test)))\n",
        "print('Mean Absolute Percentage Error (MAPE):', round(mape * 100, 2))\n",
        "print('Accuracy:', round(100*(1 - mape), 2))"
      ],
      "metadata": {
        "colab": {
          "base_uri": "https://localhost:8080/"
        },
        "id": "zzC0jqU4qz0l",
        "outputId": "842c83d6-4be7-4f98-ea89-249ae23a16ea"
      },
      "execution_count": null,
      "outputs": [
        {
          "output_type": "stream",
          "name": "stdout",
          "text": [
            "Mean Absolute Error (MAE): 0.0\n",
            "Mean Squared Error (MSE): 0.0\n",
            "Root Mean Squared Error (RMSE): 0.0\n",
            "Mean Absolute Percentage Error (MAPE): nan\n",
            "Accuracy: nan\n"
          ]
        }
      ]
    }
  ]
}