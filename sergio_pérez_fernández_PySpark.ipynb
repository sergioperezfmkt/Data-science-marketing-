{
  "cells": [
    {
      "cell_type": "markdown",
      "metadata": {
        "id": "ctZsryCRT-Uu"
      },
      "source": [
        "## PySpark on Google Colab"
      ]
    },
    {
      "cell_type": "markdown",
      "metadata": {
        "id": "cHb3DAdeQkTm"
      },
      "source": [
        "Spark is written in the Scala programming language and requires the Java Virtual Machine (JVM) to run. \n",
        "\n",
        "Therefore, our first task is to download Java.\n"
      ]
    },
    {
      "cell_type": "code",
      "execution_count": 1,
      "metadata": {
        "id": "P5qqz3EtPVdw"
      },
      "outputs": [],
      "source": [
        "!apt-get install openjdk-8-jdk-headless -qq > /dev/null"
      ]
    },
    {
      "cell_type": "markdown",
      "metadata": {
        "id": "sOA9M0UHQohU"
      },
      "source": [
        "Next, we will install Apache Spark 3.2.1 with Hadoop 3.2 from here: https://spark.apache.org/downloads.html"
      ]
    },
    {
      "cell_type": "code",
      "execution_count": 2,
      "metadata": {
        "id": "QIsh4-wJQo2e"
      },
      "outputs": [],
      "source": [
        "!wget -q https://dlcdn.apache.org/spark/spark-3.2.1/spark-3.2.1-bin-hadoop3.2.tgz"
      ]
    },
    {
      "cell_type": "markdown",
      "metadata": {
        "id": "Jq2au_AURjeh"
      },
      "source": [
        "Note – At the time of writing this article, 3.2.1 was the latest version of Apache Spark. But Spark is developing quite rapidly. So, if there is a newer version of Spark when you are executing this code, then you just need to replace 3.2.1, wherever you see it, with the latest version."
      ]
    },
    {
      "cell_type": "markdown",
      "metadata": {
        "id": "vYKTeMLfQvB9"
      },
      "source": [
        "Now, we just need to unzip that folder."
      ]
    },
    {
      "cell_type": "code",
      "execution_count": 3,
      "metadata": {
        "id": "LXiyiWm0QvZ6"
      },
      "outputs": [],
      "source": [
        "!tar xf spark-3.2.1-bin-hadoop3.2.tgz"
      ]
    },
    {
      "cell_type": "markdown",
      "metadata": {
        "id": "GyilT2gfRwrB"
      },
      "source": [
        "There is one last thing that we need to install and that is the findspark library. \n",
        "It will locate Spark on the system and import it as a regular library."
      ]
    },
    {
      "cell_type": "code",
      "execution_count": 4,
      "metadata": {
        "id": "M6mQrbP8QyxA"
      },
      "outputs": [],
      "source": [
        "!pip install -q findspark"
      ]
    },
    {
      "cell_type": "markdown",
      "metadata": {
        "id": "HTKmwvwuR3OA"
      },
      "source": [
        "Now that we have installed all the necessary dependencies in Colab, it is time to set the environment path. This will enable us to run Pyspark in the Colab environment."
      ]
    },
    {
      "cell_type": "code",
      "execution_count": 5,
      "metadata": {
        "id": "KL0FRyPyRz8G"
      },
      "outputs": [],
      "source": [
        "import os\n",
        "os.environ[\"JAVA_HOME\"] = \"/usr/lib/jvm/java-8-openjdk-amd64\"\n",
        "os.environ[\"SPARK_HOME\"] = \"/content/spark-3.2.1-bin-hadoop3.2\""
      ]
    },
    {
      "cell_type": "markdown",
      "metadata": {
        "id": "SYxV7VO-SAUi"
      },
      "source": [
        "Time for the real test!\n",
        "\n",
        "We need to locate Spark in the system. For that, we import findspark and use the findspark.init() method."
      ]
    },
    {
      "cell_type": "code",
      "execution_count": 9,
      "metadata": {
        "id": "kT6j8wNZR8se"
      },
      "outputs": [],
      "source": [
        "import findspark\n",
        "findspark.init()"
      ]
    },
    {
      "cell_type": "code",
      "execution_count": 8,
      "metadata": {
        "colab": {
          "base_uri": "https://localhost:8080/",
          "height": 35
        },
        "id": "nNtFjpptSTkd",
        "outputId": "49395e5d-0886-4deb-9ace-54c2f862afe6"
      },
      "outputs": [
        {
          "data": {
            "application/vnd.google.colaboratory.intrinsic+json": {
              "type": "string"
            },
            "text/plain": [
              "'/content/spark-3.2.1-bin-hadoop3.2'"
            ]
          },
          "execution_count": 8,
          "metadata": {},
          "output_type": "execute_result"
        }
      ],
      "source": [
        "findspark.find()"
      ]
    },
    {
      "cell_type": "markdown",
      "metadata": {
        "id": "9NQ5-HVoSKeY"
      },
      "source": [
        "Now, we can import SparkSession from pyspark.sql and create a SparkSession, which is the entry point to Spark."
      ]
    },
    {
      "cell_type": "markdown",
      "metadata": {
        "id": "MAa1TNSbRD_8"
      },
      "source": [
        "Extra material: https://sparkbyexamples.com/pyspark/pyspark-what-is-sparksession/"
      ]
    },
    {
      "cell_type": "code",
      "execution_count": 10,
      "metadata": {
        "id": "WX1deffhSLrO"
      },
      "outputs": [],
      "source": [
        "# SparkSession : punto de entrada a PySpark para trabajar con RDD / Dataframes\n",
        "\n",
        "from pyspark.sql import SparkSession\n",
        "\n",
        "spark = SparkSession.builder.getOrCreate()"
      ]
    },
    {
      "cell_type": "code",
      "execution_count": 11,
      "metadata": {
        "colab": {
          "base_uri": "https://localhost:8080/",
          "height": 219
        },
        "id": "R5KUNQjOSWRC",
        "outputId": "1e1572ba-40b8-4527-e37f-fc55d0954960"
      },
      "outputs": [
        {
          "data": {
            "text/html": [
              "\n",
              "            <div>\n",
              "                <p><b>SparkSession - in-memory</b></p>\n",
              "                \n",
              "        <div>\n",
              "            <p><b>SparkContext</b></p>\n",
              "\n",
              "            <p><a href=\"http://04e8d7647982:4040\">Spark UI</a></p>\n",
              "\n",
              "            <dl>\n",
              "              <dt>Version</dt>\n",
              "                <dd><code>v3.2.1</code></dd>\n",
              "              <dt>Master</dt>\n",
              "                <dd><code>local[*]</code></dd>\n",
              "              <dt>AppName</dt>\n",
              "                <dd><code>pyspark-shell</code></dd>\n",
              "            </dl>\n",
              "        </div>\n",
              "        \n",
              "            </div>\n",
              "        "
            ],
            "text/plain": [
              "<pyspark.sql.session.SparkSession at 0x7f64352593d0>"
            ]
          },
          "execution_count": 11,
          "metadata": {},
          "output_type": "execute_result"
        }
      ],
      "source": [
        "spark"
      ]
    },
    {
      "cell_type": "markdown",
      "metadata": {
        "id": "2j1gxCVXTYSP"
      },
      "source": [
        "Import data!\n",
        "\n",
        "This dataset was obtained from : https://datahack.analyticsvidhya.com/contest/black-friday/#ProblemStatement"
      ]
    },
    {
      "cell_type": "code",
      "execution_count": 15,
      "metadata": {
        "colab": {
          "base_uri": "https://localhost:8080/",
          "height": 0
        },
        "id": "pmWMM0skSchM",
        "outputId": "d4c9c73a-cb39-4073-f7e7-c89a16d5b4f1"
      },
      "outputs": [
        {
          "name": "stdout",
          "output_type": "stream",
          "text": [
            "Downloading...\n",
            "From: https://drive.google.com/uc?id=1LnlIF2s8deJAgBQ2-wSso_yXM6_yVU9d\n",
            "To: /content/train.csv\n",
            "100% 25.5M/25.5M [00:00<00:00, 193MB/s]\n"
          ]
        }
      ],
      "source": [
        "!gdown https://drive.google.com/uc?id=1LnlIF2s8deJAgBQ2-wSso_yXM6_yVU9d"
      ]
    },
    {
      "cell_type": "markdown",
      "metadata": {
        "id": "ngW1v64WWqNO"
      },
      "source": [
        "### Business Problem:\n",
        "\n",
        "A retail company “ABC Private Limited” wants to understand the customer purchase behaviour (specifically, purchase amount) against various products of different categories. They have shared purchase summary of various customers for selected high volume products from last month.\n",
        "The data set also contains customer demographics (age, gender, marital status, city_type, stay_in_current_city), product details (product_id and product category) and Total purchase_amount from last month.\n",
        "\n",
        "Now, they want to build a model to predict the purchase amount of customer against various products which will help them to create personalized offer for customers against different products."
      ]
    },
    {
      "cell_type": "markdown",
      "metadata": {
        "id": "A4MnvCXwkHUI"
      },
      "source": [
        "## Reading csv files"
      ]
    },
    {
      "cell_type": "markdown",
      "metadata": {
        "id": "vKuen7Q3WBoJ"
      },
      "source": [
        "If you are curious, please find below how to read different files types with Spark:\n",
        "\n",
        "https://www.analyticsvidhya.com/blog/2020/10/data-engineering-101-data-sources-apache-spark/?utm_source=blog&utm_medium=working-with-pyspark-on-google-colab-for-data-scientists"
      ]
    },
    {
      "cell_type": "code",
      "execution_count": 16,
      "metadata": {
        "id": "6FOrHDnyTadn"
      },
      "outputs": [],
      "source": [
        "df = spark.read.csv(\"train.csv\", header=True)"
      ]
    },
    {
      "cell_type": "markdown",
      "metadata": {
        "id": "Nbvk0mv8kLbA"
      },
      "source": [
        "## Show data"
      ]
    },
    {
      "cell_type": "code",
      "execution_count": 17,
      "metadata": {
        "colab": {
          "base_uri": "https://localhost:8080/",
          "height": 0
        },
        "id": "ArrIgdxEVaS7",
        "outputId": "cda42037-7782-48ae-e8ef-c3e9dd0b8413"
      },
      "outputs": [
        {
          "name": "stdout",
          "output_type": "stream",
          "text": [
            "+-------+----------+------+----+----------+-------------+--------------------------+--------------+------------------+------------------+------------------+--------+\n",
            "|User_ID|Product_ID|Gender| Age|Occupation|City_Category|Stay_In_Current_City_Years|Marital_Status|Product_Category_1|Product_Category_2|Product_Category_3|Purchase|\n",
            "+-------+----------+------+----+----------+-------------+--------------------------+--------------+------------------+------------------+------------------+--------+\n",
            "|1000001| P00069042|     F|0-17|        10|            A|                         2|             0|                 3|              null|              null|    8370|\n",
            "|1000001| P00248942|     F|0-17|        10|            A|                         2|             0|                 1|                 6|                14|   15200|\n",
            "|1000001| P00087842|     F|0-17|        10|            A|                         2|             0|                12|              null|              null|    1422|\n",
            "|1000001| P00085442|     F|0-17|        10|            A|                         2|             0|                12|                14|              null|    1057|\n",
            "|1000002| P00285442|     M| 55+|        16|            C|                        4+|             0|                 8|              null|              null|    7969|\n",
            "+-------+----------+------+----+----------+-------------+--------------------------+--------------+------------------+------------------+------------------+--------+\n",
            "only showing top 5 rows\n",
            "\n"
          ]
        }
      ],
      "source": [
        "df.show(5)"
      ]
    },
    {
      "cell_type": "markdown",
      "metadata": {
        "id": "JgnzrXuIkZzv"
      },
      "source": [
        "## Show column details"
      ]
    },
    {
      "cell_type": "code",
      "execution_count": 18,
      "metadata": {
        "colab": {
          "base_uri": "https://localhost:8080/",
          "height": 0
        },
        "id": "M2IqznWtWSVn",
        "outputId": "49bfd229-c112-4b59-dc88-46c5fb5a596c"
      },
      "outputs": [
        {
          "name": "stdout",
          "output_type": "stream",
          "text": [
            "root\n",
            " |-- User_ID: string (nullable = true)\n",
            " |-- Product_ID: string (nullable = true)\n",
            " |-- Gender: string (nullable = true)\n",
            " |-- Age: string (nullable = true)\n",
            " |-- Occupation: string (nullable = true)\n",
            " |-- City_Category: string (nullable = true)\n",
            " |-- Stay_In_Current_City_Years: string (nullable = true)\n",
            " |-- Marital_Status: string (nullable = true)\n",
            " |-- Product_Category_1: string (nullable = true)\n",
            " |-- Product_Category_2: string (nullable = true)\n",
            " |-- Product_Category_3: string (nullable = true)\n",
            " |-- Purchase: string (nullable = true)\n",
            "\n"
          ]
        }
      ],
      "source": [
        "df.printSchema()\n",
        "#para ver la el esquemas de la columna"
      ]
    },
    {
      "cell_type": "markdown",
      "metadata": {
        "id": "hjMU3mv2kh_9"
      },
      "source": [
        "## Official description\n",
        "User_ID\t-> User ID <br>\n",
        "Product_ID\t-> Product ID <br>\n",
        "Gender\t-> Sex of User <br>\n",
        "Age\t-> Age in bins <br>\n",
        "Occupation\t-> Occupation (Masked) <br>\n",
        "City_Category\t-> Category of the City (A,B,C) <br>\n",
        "Stay_In_Current_City_Years\t-> Number of years stay in current city <br>\n",
        "Marital_Status\t-> Marital Status <br>\n",
        "Product_Category_1\t-> Product Category (Masked) <br>\n",
        "Product_Category_2\t-> Product may belongs to other category also (Masked) <br>\n",
        "Product_Category_3\t-> Product may belongs to other category also (Masked) <br>\n",
        "Purchase\t-> Purchase Amount (Target Variable) <br>"
      ]
    },
    {
      "cell_type": "markdown",
      "metadata": {
        "id": "KSVd8Aogk8IL"
      },
      "source": [
        "### Number of rows and columns in DF"
      ]
    },
    {
      "cell_type": "code",
      "execution_count": 20,
      "metadata": {
        "colab": {
          "base_uri": "https://localhost:8080/",
          "height": 0
        },
        "id": "wcw3aeGYWhFj",
        "outputId": "eff99c81-c2c8-4753-d97a-9b8c407cb88c"
      },
      "outputs": [
        {
          "data": {
            "text/plain": [
              "12"
            ]
          },
          "execution_count": 20,
          "metadata": {},
          "output_type": "execute_result"
        }
      ],
      "source": [
        "df.count(), len(df.columns)"
      ]
    },
    {
      "cell_type": "markdown",
      "metadata": {
        "id": "iSx-1CONlCjj"
      },
      "source": [
        "## Display specific column"
      ]
    },
    {
      "cell_type": "code",
      "execution_count": 22,
      "metadata": {
        "colab": {
          "base_uri": "https://localhost:8080/",
          "height": 0
        },
        "id": "r_ZY9tZxYOu0",
        "outputId": "7db3a070-44ba-47af-b83b-48eb90af9f15"
      },
      "outputs": [
        {
          "name": "stdout",
          "output_type": "stream",
          "text": [
            "+-------+------+\n",
            "|User_Id|Gender|\n",
            "+-------+------+\n",
            "|1000001|     F|\n",
            "|1000001|     F|\n",
            "|1000001|     F|\n",
            "|1000001|     F|\n",
            "|1000002|     M|\n",
            "|1000003|     M|\n",
            "|1000004|     M|\n",
            "|1000004|     M|\n",
            "|1000004|     M|\n",
            "|1000005|     M|\n",
            "|1000005|     M|\n",
            "|1000005|     M|\n",
            "|1000005|     M|\n",
            "|1000005|     M|\n",
            "|1000006|     F|\n",
            "|1000006|     F|\n",
            "|1000006|     F|\n",
            "|1000006|     F|\n",
            "|1000007|     M|\n",
            "|1000008|     M|\n",
            "+-------+------+\n",
            "only showing top 20 rows\n",
            "\n"
          ]
        }
      ],
      "source": [
        "df.select(\"User_Id\", \"Gender\").show()"
      ]
    },
    {
      "cell_type": "markdown",
      "metadata": {
        "id": "1UZqen0llLzN"
      },
      "source": [
        "### Describing the columns"
      ]
    },
    {
      "cell_type": "code",
      "execution_count": 24,
      "metadata": {
        "colab": {
          "base_uri": "https://localhost:8080/",
          "height": 0
        },
        "id": "C-pZNcmuYYGA",
        "outputId": "315bef20-e023-4b65-a80b-46e41a62e7c4"
      },
      "outputs": [
        {
          "name": "stdout",
          "output_type": "stream",
          "text": [
            "+-------+------------------+----------+------+------+-----------------+-------------+--------------------------+-------------------+------------------+------------------+------------------+-----------------+\n",
            "|summary|           User_ID|Product_ID|Gender|   Age|       Occupation|City_Category|Stay_In_Current_City_Years|     Marital_Status|Product_Category_1|Product_Category_2|Product_Category_3|         Purchase|\n",
            "+-------+------------------+----------+------+------+-----------------+-------------+--------------------------+-------------------+------------------+------------------+------------------+-----------------+\n",
            "|  count|            550068|    550068|550068|550068|           550068|       550068|                    550068|             550068|            550068|            376430|            166821|           550068|\n",
            "|   mean|1003028.8424013031|      null|  null|  null|8.076706879876669|         null|         1.468494139793958|0.40965298835780306| 5.404270017525106| 9.842329251122386|12.668243206790512|9263.968712959126|\n",
            "| stddev|1727.5915855313747|      null|  null|  null|6.522660487341741|         null|        0.9890866807573103| 0.4917701263173315| 3.936211369201365| 5.086589648693497| 4.125337631575274|5023.065393820575|\n",
            "|    min|           1000001| P00000142|     F|  0-17|                0|            A|                         0|                  0|                 1|                10|                10|            10000|\n",
            "|    max|           1006040|  P0099942|     M|   55+|                9|            C|                        4+|                  1|                 9|                 9|                 9|             9999|\n",
            "+-------+------------------+----------+------+------+-----------------+-------------+--------------------------+-------------------+------------------+------------------+------------------+-----------------+\n",
            "\n"
          ]
        }
      ],
      "source": [
        "df.describe().show()"
      ]
    },
    {
      "cell_type": "markdown",
      "metadata": {
        "id": "TJ7H9eaGlWFR"
      },
      "source": [
        "### Distinct values for Categorical columns"
      ]
    },
    {
      "cell_type": "code",
      "execution_count": 32,
      "metadata": {
        "colab": {
          "base_uri": "https://localhost:8080/",
          "height": 0
        },
        "id": "Ks_bNCXglOIF",
        "outputId": "1313fd3f-9cf2-4c00-9d3e-8151069fb88f"
      },
      "outputs": [
        {
          "name": "stdout",
          "output_type": "stream",
          "text": [
            "+-------------+-----+\n",
            "|city_category|  Age|\n",
            "+-------------+-----+\n",
            "|            C| 0-17|\n",
            "|            A| 0-17|\n",
            "|            B| 0-17|\n",
            "|            A|18-25|\n",
            "|            B|18-25|\n",
            "|            C|18-25|\n",
            "|            B|26-35|\n",
            "|            C|26-35|\n",
            "|            A|26-35|\n",
            "|            B|36-45|\n",
            "|            A|36-45|\n",
            "|            C|36-45|\n",
            "|            C|46-50|\n",
            "|            B|46-50|\n",
            "|            A|46-50|\n",
            "|            B|51-55|\n",
            "|            C|51-55|\n",
            "|            A|51-55|\n",
            "|            B|  55+|\n",
            "|            A|  55+|\n",
            "+-------------+-----+\n",
            "only showing top 20 rows\n",
            "\n"
          ]
        }
      ],
      "source": [
        "# Distinct value of one column es como el groupby des sql\n",
        "df.select(\"city_category\", \"Age\").distinct().orderBy(\"Age\").show()"
      ]
    },
    {
      "cell_type": "code",
      "execution_count": 35,
      "metadata": {
        "colab": {
          "base_uri": "https://localhost:8080/",
          "height": 0
        },
        "id": "bpDPz2PBlZYk",
        "outputId": "b1984be7-c411-4e64-f987-75636e3efc29"
      },
      "outputs": [
        {
          "name": "stdout",
          "output_type": "stream",
          "text": [
            "+-------------+-----+\n",
            "|city_category|  Age|\n",
            "+-------------+-----+\n",
            "|            B|  55+|\n",
            "|            A|46-50|\n",
            "|            A|26-35|\n",
            "|            C|46-50|\n",
            "|            B| 0-17|\n",
            "|            A|18-25|\n",
            "|            B|46-50|\n",
            "|            A|  55+|\n",
            "|            C|18-25|\n",
            "|            C|36-45|\n",
            "|            B|26-35|\n",
            "|            A| 0-17|\n",
            "|            A|36-45|\n",
            "|            C|  55+|\n",
            "|            B|18-25|\n",
            "|            A|51-55|\n",
            "|            C|26-35|\n",
            "|            C| 0-17|\n",
            "|            B|51-55|\n",
            "|            C|51-55|\n",
            "+-------------+-----+\n",
            "only showing top 20 rows\n",
            "\n"
          ]
        }
      ],
      "source": [
        "# Distinct value of two columns\n",
        "df.select(\"city_category\", \"Age\").distinct().show()"
      ]
    },
    {
      "cell_type": "code",
      "execution_count": 36,
      "metadata": {
        "colab": {
          "base_uri": "https://localhost:8080/",
          "height": 0
        },
        "id": "n42pt46slh1Z",
        "outputId": "90b5a570-139a-434c-c61f-be09aef83c2b"
      },
      "outputs": [
        {
          "name": "stdout",
          "output_type": "stream",
          "text": [
            "+-------------+-----+\n",
            "|city_category|  Age|\n",
            "+-------------+-----+\n",
            "|            C| 0-17|\n",
            "|            A| 0-17|\n",
            "|            B| 0-17|\n",
            "|            A|18-25|\n",
            "|            B|18-25|\n",
            "|            C|18-25|\n",
            "|            B|26-35|\n",
            "|            C|26-35|\n",
            "|            A|26-35|\n",
            "|            B|36-45|\n",
            "|            A|36-45|\n",
            "|            C|36-45|\n",
            "|            C|46-50|\n",
            "|            B|46-50|\n",
            "|            A|46-50|\n",
            "|            B|51-55|\n",
            "|            C|51-55|\n",
            "|            A|51-55|\n",
            "|            B|  55+|\n",
            "|            A|  55+|\n",
            "+-------------+-----+\n",
            "only showing top 20 rows\n",
            "\n"
          ]
        }
      ],
      "source": [
        "# Distinct value of two columns + Order values\n",
        "df.select(\"city_category\", \"Age\").distinct()\\\n",
        ".orderBy(\"Age\").show()"
      ]
    },
    {
      "cell_type": "markdown",
      "metadata": {
        "id": "JS_HE4yHmsFT"
      },
      "source": [
        "## Group by sentence"
      ]
    },
    {
      "cell_type": "code",
      "execution_count": 33,
      "metadata": {
        "colab": {
          "base_uri": "https://localhost:8080/",
          "height": 0
        },
        "id": "zqHqWJQ2lsqr",
        "outputId": "263eb4e6-d5ee-44a8-f3ad-321d1f668d8c"
      },
      "outputs": [
        {
          "name": "stdout",
          "output_type": "stream",
          "text": [
            "+-------------+------+\n",
            "|city_category| count|\n",
            "+-------------+------+\n",
            "|            B|231173|\n",
            "|            C|171175|\n",
            "|            A|147720|\n",
            "+-------------+------+\n",
            "\n"
          ]
        }
      ],
      "source": [
        "# Group by one column\n",
        "df.groupby(\"city_category\").count().show()"
      ]
    },
    {
      "cell_type": "code",
      "execution_count": 45,
      "metadata": {
        "colab": {
          "base_uri": "https://localhost:8080/",
          "height": 0
        },
        "id": "5A3ymtP_nbWG",
        "outputId": "da146719-126f-44f8-d633-fa753dad0746"
      },
      "outputs": [
        {
          "name": "stdout",
          "output_type": "stream",
          "text": [
            "+-------------+-----+-----+\n",
            "|city_category|  age|count|\n",
            "+-------------+-----+-----+\n",
            "|            B|  55+| 5162|\n",
            "|            A|46-50| 7607|\n",
            "|            A|26-35|73745|\n",
            "|            C|46-50|17688|\n",
            "|            B| 0-17| 5435|\n",
            "|            A|18-25|27535|\n",
            "|            B|46-50|20406|\n",
            "|            A|  55+| 3573|\n",
            "|            C|18-25|28878|\n",
            "|            C|36-45|35798|\n",
            "|            B|26-35|91584|\n",
            "|            A| 0-17| 2544|\n",
            "|            A|36-45|26617|\n",
            "|            C|  55+|12769|\n",
            "|            B|18-25|43247|\n",
            "|            A|51-55| 6099|\n",
            "|            C|26-35|54258|\n",
            "|            C| 0-17| 7123|\n",
            "|            B|51-55|17741|\n",
            "|            C|51-55|14661|\n",
            "+-------------+-----+-----+\n",
            "only showing top 20 rows\n",
            "\n"
          ]
        }
      ],
      "source": [
        "# Group by two columns\n",
        "df.groupby(\"city_category\", \"age\").count().show()"
      ]
    },
    {
      "cell_type": "code",
      "execution_count": 44,
      "metadata": {
        "colab": {
          "base_uri": "https://localhost:8080/",
          "height": 0
        },
        "id": "XfjCpuGHnxdX",
        "outputId": "9c9d00f9-ba67-4e2e-8c06-0109978fcecd"
      },
      "outputs": [
        {
          "name": "stdout",
          "output_type": "stream",
          "text": [
            "+-------------+-----+-----+\n",
            "|city_category|  age|count|\n",
            "+-------------+-----+-----+\n",
            "|            B|26-35|91584|\n",
            "|            A|26-35|73745|\n",
            "|            C|26-35|54258|\n",
            "|            B|36-45|47598|\n",
            "|            B|18-25|43247|\n",
            "|            C|36-45|35798|\n",
            "|            C|18-25|28878|\n",
            "|            A|18-25|27535|\n",
            "|            A|36-45|26617|\n",
            "|            B|46-50|20406|\n",
            "|            B|51-55|17741|\n",
            "|            C|46-50|17688|\n",
            "|            C|51-55|14661|\n",
            "|            C|  55+|12769|\n",
            "|            A|46-50| 7607|\n",
            "|            C| 0-17| 7123|\n",
            "|            A|51-55| 6099|\n",
            "|            B| 0-17| 5435|\n",
            "|            B|  55+| 5162|\n",
            "|            A|  55+| 3573|\n",
            "+-------------+-----+-----+\n",
            "only showing top 20 rows\n",
            "\n"
          ]
        }
      ],
      "source": [
        "# Count number of rows per each combination of \"City Category\" and \"Stay in current city years\" ordered by frequency\n",
        "df.groupby(\"city_category\", \"age\").count().orderBy(\"count\", ascending= False).show()"
      ]
    },
    {
      "cell_type": "markdown",
      "metadata": {
        "id": "pcew628iNIym"
      },
      "source": [
        "## Filtering data"
      ]
    },
    {
      "cell_type": "markdown",
      "metadata": {
        "id": "S3LSNxBdPTwL"
      },
      "source": [
        "A lot of options to filtering = https://sparkbyexamples.com/pyspark/pyspark-where-filter/\n"
      ]
    },
    {
      "cell_type": "code",
      "execution_count": 46,
      "metadata": {
        "id": "NhggzvQ-Oxfb"
      },
      "outputs": [],
      "source": [
        "import pyspark.sql.functions as f"
      ]
    },
    {
      "cell_type": "code",
      "execution_count": 49,
      "metadata": {
        "colab": {
          "base_uri": "https://localhost:8080/",
          "height": 0
        },
        "id": "C_jc29W4NK7J",
        "outputId": "2c6e8fc2-77a6-49af-e43b-9129645dd275"
      },
      "outputs": [
        {
          "name": "stdout",
          "output_type": "stream",
          "text": [
            "+-------+----------+------+-----+----------+-------------+--------------------------+--------------+------------------+------------------+------------------+--------+\n",
            "|User_ID|Product_ID|Gender|  Age|Occupation|City_Category|Stay_In_Current_City_Years|Marital_Status|Product_Category_1|Product_Category_2|Product_Category_3|Purchase|\n",
            "+-------+----------+------+-----+----------+-------------+--------------------------+--------------+------------------+------------------+------------------+--------+\n",
            "|1000001| P00069042|     F| 0-17|        10|            A|                         2|             0|                 3|              null|              null|    8370|\n",
            "|1000001| P00248942|     F| 0-17|        10|            A|                         2|             0|                 1|                 6|                14|   15200|\n",
            "|1000001| P00087842|     F| 0-17|        10|            A|                         2|             0|                12|              null|              null|    1422|\n",
            "|1000001| P00085442|     F| 0-17|        10|            A|                         2|             0|                12|                14|              null|    1057|\n",
            "|1000003| P00193542|     M|26-35|        15|            A|                         3|             0|                 1|                 2|              null|   15227|\n",
            "+-------+----------+------+-----+----------+-------------+--------------------------+--------------+------------------+------------------+------------------+--------+\n",
            "only showing top 5 rows\n",
            "\n"
          ]
        }
      ],
      "source": [
        "# Filtering by City Category \"A\"\n",
        "df.filter(df.City_Category==\"A\").show(5)"
      ]
    },
    {
      "cell_type": "code",
      "execution_count": 53,
      "metadata": {
        "colab": {
          "base_uri": "https://localhost:8080/",
          "height": 0
        },
        "id": "hFZNSksvOriP",
        "outputId": "f431c37e-8a7b-4c5e-c709-a2812bb5f1c3"
      },
      "outputs": [
        {
          "name": "stdout",
          "output_type": "stream",
          "text": [
            "+-------+----------+------+-----+----------+-------------+--------------------------+--------------+------------------+------------------+------------------+--------+\n",
            "|User_ID|Product_ID|Gender|  Age|Occupation|City_Category|Stay_In_Current_City_Years|Marital_Status|Product_Category_1|Product_Category_2|Product_Category_3|Purchase|\n",
            "+-------+----------+------+-----+----------+-------------+--------------------------+--------------+------------------+------------------+------------------+--------+\n",
            "|1000001| P00069042|     F| 0-17|        10|            A|                         2|             0|                 3|              null|              null|    8370|\n",
            "|1000001| P00248942|     F| 0-17|        10|            A|                         2|             0|                 1|                 6|                14|   15200|\n",
            "|1000001| P00087842|     F| 0-17|        10|            A|                         2|             0|                12|              null|              null|    1422|\n",
            "|1000001| P00085442|     F| 0-17|        10|            A|                         2|             0|                12|                14|              null|    1057|\n",
            "|1000003| P00193542|     M|26-35|        15|            A|                         3|             0|                 1|                 2|              null|   15227|\n",
            "|1000005| P00274942|     M|26-35|        20|            A|                         1|             1|                 8|              null|              null|    7871|\n",
            "|1000005| P00251242|     M|26-35|        20|            A|                         1|             1|                 5|                11|              null|    5254|\n",
            "|1000005| P00014542|     M|26-35|        20|            A|                         1|             1|                 8|              null|              null|    3957|\n",
            "|1000005| P00031342|     M|26-35|        20|            A|                         1|             1|                 8|              null|              null|    6073|\n",
            "|1000005| P00145042|     M|26-35|        20|            A|                         1|             1|                 1|                 2|                 5|   15665|\n",
            "|1000006| P00231342|     F|51-55|         9|            A|                         1|             0|                 5|                 8|                14|    5378|\n",
            "|1000006| P00190242|     F|51-55|         9|            A|                         1|             0|                 4|                 5|              null|    2079|\n",
            "|1000006|  P0096642|     F|51-55|         9|            A|                         1|             0|                 2|                 3|                 4|   13055|\n",
            "|1000006| P00058442|     F|51-55|         9|            A|                         1|             0|                 5|                14|              null|    8851|\n",
            "|1000015| P00334242|     M|26-35|         7|            A|                         1|             0|                 1|                 8|              null|   19653|\n",
            "|1000015| P00247542|     M|26-35|         7|            A|                         1|             0|                 8|                16|              null|    5958|\n",
            "|1000015| P00338442|     M|26-35|         7|            A|                         1|             0|                 1|                16|              null|   11415|\n",
            "|1000015| P00275142|     M|26-35|         7|            A|                         1|             0|                 5|                 8|              null|    5380|\n",
            "|1000015| P00333042|     M|26-35|         7|            A|                         1|             0|                 5|                 8|              null|    3594|\n",
            "|1000015| P00166242|     M|26-35|         7|            A|                         1|             0|                 8|              null|              null|    4209|\n",
            "+-------+----------+------+-----+----------+-------------+--------------------------+--------------+------------------+------------------+------------------+--------+\n",
            "only showing top 20 rows\n",
            "\n"
          ]
        }
      ],
      "source": [
        "# Also filtering by City Category \"A\"\n",
        "df.filter(f.col(\"City_Category\") ==\"A\").show()"
      ]
    },
    {
      "cell_type": "code",
      "execution_count": 56,
      "metadata": {
        "colab": {
          "base_uri": "https://localhost:8080/",
          "height": 0
        },
        "id": "XYiD-51mO2Ks",
        "outputId": "309df014-98a7-4f3f-aff7-d2bb8b4da287"
      },
      "outputs": [
        {
          "name": "stdout",
          "output_type": "stream",
          "text": [
            "+-------+----------+------+-----+----------+-------------+--------------------------+--------------+------------------+------------------+------------------+--------+\n",
            "|User_ID|Product_ID|Gender|  Age|Occupation|City_Category|Stay_In_Current_City_Years|Marital_Status|Product_Category_1|Product_Category_2|Product_Category_3|Purchase|\n",
            "+-------+----------+------+-----+----------+-------------+--------------------------+--------------+------------------+------------------+------------------+--------+\n",
            "|1000003| P00193542|     M|26-35|        15|            A|                         3|             0|                 1|                 2|              null|   15227|\n",
            "|1000005| P00274942|     M|26-35|        20|            A|                         1|             1|                 8|              null|              null|    7871|\n",
            "|1000005| P00251242|     M|26-35|        20|            A|                         1|             1|                 5|                11|              null|    5254|\n",
            "|1000005| P00014542|     M|26-35|        20|            A|                         1|             1|                 8|              null|              null|    3957|\n",
            "|1000005| P00031342|     M|26-35|        20|            A|                         1|             1|                 8|              null|              null|    6073|\n",
            "+-------+----------+------+-----+----------+-------------+--------------------------+--------------+------------------+------------------+------------------+--------+\n",
            "only showing top 5 rows\n",
            "\n"
          ]
        }
      ],
      "source": [
        "# Filtering by two conditions\n",
        "df.filter((df.City_Category==\"A\")&(df.Gender==\"M\")).show(5)"
      ]
    },
    {
      "cell_type": "code",
      "execution_count": 58,
      "metadata": {
        "colab": {
          "base_uri": "https://localhost:8080/",
          "height": 0
        },
        "id": "tBa7QxEkPHBM",
        "outputId": "7be6dcfa-c98c-45a7-8c46-9ef44ff848a0"
      },
      "outputs": [
        {
          "name": "stdout",
          "output_type": "stream",
          "text": [
            "+-------------+-----+\n",
            "|city_category|  Age|\n",
            "+-------------+-----+\n",
            "|            A|26-35|\n",
            "|            A|26-35|\n",
            "|            A|26-35|\n",
            "|            A|  55+|\n",
            "|            A|  55+|\n",
            "+-------------+-----+\n",
            "only showing top 5 rows\n",
            "\n"
          ]
        }
      ],
      "source": [
        "# Filtering by two conditions, select just a few columns and ordering result\n",
        "df.select(\"city_category\", \"Age\").filter((df.City_Category==\"A\")&(df.Gender==\"M\")).orderBy(\"Gender\").show(5)"
      ]
    },
    {
      "cell_type": "markdown",
      "metadata": {
        "id": "ewgVIdetrvJP"
      },
      "source": [
        "## Updating column type"
      ]
    },
    {
      "cell_type": "code",
      "execution_count": 70,
      "metadata": {
        "colab": {
          "base_uri": "https://localhost:8080/",
          "height": 0
        },
        "id": "AxzfHgZKrx8m",
        "outputId": "4728c5d3-2751-48d0-a46f-8d6f6a4e4cdf"
      },
      "outputs": [
        {
          "name": "stdout",
          "output_type": "stream",
          "text": [
            "root\n",
            " |-- User_ID: string (nullable = true)\n",
            " |-- Product_ID: string (nullable = true)\n",
            " |-- Gender: string (nullable = true)\n",
            " |-- Age: string (nullable = true)\n",
            " |-- Occupation: string (nullable = true)\n",
            " |-- city_category: double (nullable = true)\n",
            " |-- Stay_In_Current_City_Years: string (nullable = true)\n",
            " |-- Marital_Status: string (nullable = true)\n",
            " |-- Product_Category_1: string (nullable = true)\n",
            " |-- Product_Category_2: string (nullable = true)\n",
            " |-- Product_Category_3: string (nullable = true)\n",
            " |-- Purchase: float (nullable = true)\n",
            " |-- ity_category: double (nullable = true)\n",
            "\n"
          ]
        }
      ],
      "source": [
        "df=df.withColumn(\"Purchase\", df.Purchase.cast(\"float\"))\n",
        "df.printSchema()\n",
        "#si quiero crear una columna pillo y pongo aqui  df=df.withColumn(\"city_category\" el nobre nuevo de la columna "
      ]
    },
    {
      "cell_type": "markdown",
      "metadata": {
        "id": "inoaQ6Bcsrik"
      },
      "source": [
        "## Aggregative functions (sum, avg, min, max...)"
      ]
    },
    {
      "cell_type": "code",
      "execution_count": 71,
      "metadata": {
        "colab": {
          "base_uri": "https://localhost:8080/",
          "height": 0
        },
        "id": "tfwRsBldsv4U",
        "outputId": "442bea2d-9767-4c87-8e54-7501f04d761a"
      },
      "outputs": [
        {
          "name": "stdout",
          "output_type": "stream",
          "text": [
            "+-------+-------------+\n",
            "|User_Id|sum(Purchase)|\n",
            "+-------+-------------+\n",
            "|1000240|     854532.0|\n",
            "|1000280|     189891.0|\n",
            "|1000795|     559717.0|\n",
            "|1000839|    4681205.0|\n",
            "|1000888|     492236.0|\n",
            "|1001866|     860896.0|\n",
            "|1002011|    1370857.0|\n",
            "|1002185|    1540819.0|\n",
            "|1002442|     100036.0|\n",
            "|1002783|     335592.0|\n",
            "|1002883|     535502.0|\n",
            "|1002887|    3259008.0|\n",
            "|1003202|     607054.0|\n",
            "|1003366|     215881.0|\n",
            "|1003397|     179982.0|\n",
            "|1003644|     292138.0|\n",
            "|1003663|     549674.0|\n",
            "|1003665|    1364886.0|\n",
            "|1004042|    2333608.0|\n",
            "|1004266|     347340.0|\n",
            "+-------+-------------+\n",
            "only showing top 20 rows\n",
            "\n"
          ]
        }
      ],
      "source": [
        "# Sum purchase per user\n",
        "df.groupBy(\"User_Id\").agg(f.sum(\"Purchase\")).show()\n",
        "#funcion agregativa agg"
      ]
    },
    {
      "cell_type": "code",
      "execution_count": 81,
      "metadata": {
        "colab": {
          "base_uri": "https://localhost:8080/",
          "height": 0
        },
        "id": "0TJttpxIpbMY",
        "outputId": "9ca266c7-e035-4753-c544-5e43b30a6f1e"
      },
      "outputs": [
        {
          "name": "stdout",
          "output_type": "stream",
          "text": [
            "+-------+-------------+\n",
            "|User_Id|sum(Purchase)|\n",
            "+-------+-------------+\n",
            "|1004277|  1.0536909E7|\n",
            "|1001680|    8699596.0|\n",
            "|1002909|    7577756.0|\n",
            "|1001941|    6817493.0|\n",
            "|1000424|    6573609.0|\n",
            "+-------+-------------+\n",
            "only showing top 5 rows\n",
            "\n",
            "+-------+-----------+\n",
            "|User_Id|     pajaro|\n",
            "+-------+-----------+\n",
            "|1004277|1.0536909E7|\n",
            "|1001680|  8699596.0|\n",
            "|1002909|  7577756.0|\n",
            "|1001941|  6817493.0|\n",
            "|1000424|  6573609.0|\n",
            "+-------+-----------+\n",
            "only showing top 5 rows\n",
            "\n"
          ]
        }
      ],
      "source": [
        "# Sum purchase per user and get top 5\n",
        "df.groupBy(\"User_Id\")\\\n",
        ".agg(f.sum(\"Purchase\"))\\\n",
        ".orderBy(\"sum(Purchase)\", ascending=False)\\\n",
        ".show(5)\n",
        "## forma b\n",
        "df.groupBy(\"User_Id\")\\\n",
        ".agg(f.sum(\"Purchase\").alias(\"pajaro\"))\\\n",
        ".orderBy(\"pajaro\", ascending=False)\\\n",
        ".show(5)"
      ]
    },
    {
      "cell_type": "code",
      "execution_count": 82,
      "metadata": {
        "colab": {
          "base_uri": "https://localhost:8080/",
          "height": 0
        },
        "id": "VmEHiamBq_zb",
        "outputId": "0d46571c-00c9-401c-92f8-c58033573591"
      },
      "outputs": [
        {
          "name": "stdout",
          "output_type": "stream",
          "text": [
            "+-------+------------------+\n",
            "|User_Id|            pajaro|\n",
            "+-------+------------------+\n",
            "|1003902|18577.893617021276|\n",
            "|1005069|18490.166666666668|\n",
            "|1005999|18345.944444444445|\n",
            "|1001349|18162.739130434784|\n",
            "|1003461|           17508.7|\n",
            "+-------+------------------+\n",
            "only showing top 5 rows\n",
            "\n"
          ]
        }
      ],
      "source": [
        "# Same result but renaming column name\n"
      ]
    },
    {
      "cell_type": "code",
      "execution_count": 83,
      "metadata": {
        "colab": {
          "base_uri": "https://localhost:8080/",
          "height": 0
        },
        "id": "pkvVriFYrJbK",
        "outputId": "23001d33-19ec-445a-d015-3d7065dae31e"
      },
      "outputs": [
        {
          "name": "stdout",
          "output_type": "stream",
          "text": [
            "+-------+------------------+\n",
            "|User_Id|            pajaro|\n",
            "+-------+------------------+\n",
            "|1003902|18577.893617021276|\n",
            "|1005069|18490.166666666668|\n",
            "|1005999|18345.944444444445|\n",
            "|1001349|18162.739130434784|\n",
            "|1003461|           17508.7|\n",
            "+-------+------------------+\n",
            "only showing top 5 rows\n",
            "\n"
          ]
        }
      ],
      "source": [
        "# Purchase avg per user and get top 5\n",
        "df.groupBy(\"User_Id\")\\\n",
        ".agg(f.avg(\"Purchase\").alias(\"pajaro\"))\\\n",
        ".orderBy(\"pajaro\", ascending=False)\\\n",
        ".show(5)"
      ]
    },
    {
      "cell_type": "code",
      "execution_count": 94,
      "metadata": {
        "colab": {
          "base_uri": "https://localhost:8080/",
          "height": 0
        },
        "id": "d5JnuCFarZMb",
        "outputId": "c4026bac-deb3-4bd1-9a33-ecdd8a262feb"
      },
      "outputs": [
        {
          "name": "stdout",
          "output_type": "stream",
          "text": [
            "+-------+--------+\n",
            "|User_Id|  pajaro|\n",
            "+-------+--------+\n",
            "|1003902|18577.89|\n",
            "|1005069|18490.17|\n",
            "|1005999|18345.94|\n",
            "|1001349|18162.74|\n",
            "|1003461| 17508.7|\n",
            "+-------+--------+\n",
            "only showing top 5 rows\n",
            "\n"
          ]
        }
      ],
      "source": [
        "# Can you round the result and rename the purchase column?\n",
        "df.groupBy(\"User_Id\")\\\n",
        ".agg(f.round(f.avg(\"Purchase\"),2).alias(\"dinero\"))\\\n",
        ".orderBy(\"dinero\", ascending=False)\\\n",
        ".show(5)"
      ]
    },
    {
      "cell_type": "code",
      "execution_count": 117,
      "metadata": {
        "colab": {
          "base_uri": "https://localhost:8080/",
          "height": 0
        },
        "id": "Ti3Nuu3nsh7d",
        "outputId": "56589140-e348-4be6-8662-7d39e6a80d53"
      },
      "outputs": [
        {
          "name": "stdout",
          "output_type": "stream",
          "text": [
            "+-------+--------------+-----------------------+-------------+-------------+------------+\n",
            "|User_Id|count(User_Id)|round(avg(Purchase), 0)|min(Purchase)|max(Purchase)|avg(User_Id)|\n",
            "+-------+--------------+-----------------------+-------------+-------------+------------+\n",
            "|1000240|            86|                 9936.0|        247.0|      19647.0|   1000240.0|\n",
            "|1000280|            26|                 7304.0|        773.0|      19352.0|   1000280.0|\n",
            "|1000795|            80|                 6996.0|       1720.0|      20646.0|   1000795.0|\n",
            "|1000839|           435|                10761.0|        578.0|      23842.0|   1000839.0|\n",
            "|1000888|            47|                10473.0|         24.0|      19396.0|   1000888.0|\n",
            "|1001866|            90|                 9566.0|        932.0|      23589.0|   1001866.0|\n",
            "|1002011|           141|                 9722.0|        474.0|      20108.0|   1002011.0|\n",
            "|1002185|           171|                 9011.0|         25.0|      23277.0|   1002185.0|\n",
            "|1002442|            16|                 6252.0|        377.0|      16475.0|   1002442.0|\n",
            "|1002783|            28|                11985.0|         26.0|      23765.0|   1002783.0|\n",
            "|1002883|            82|                 6531.0|        373.0|      20612.0|   1002883.0|\n",
            "|1002887|           335|                 9728.0|         24.0|      20503.0|   1002887.0|\n",
            "|1003202|            67|                 9061.0|        252.0|      20567.0|   1003202.0|\n",
            "|1003366|            18|                11993.0|        595.0|      19650.0|   1003366.0|\n",
            "|1003397|            16|                11249.0|        483.0|      20545.0|   1003397.0|\n",
            "|1003644|            28|                10434.0|         48.0|      20659.0|   1003644.0|\n",
            "|1003663|            45|                12215.0|         61.0|      19639.0|   1003663.0|\n",
            "|1003665|           122|                11188.0|        740.0|      23496.0|   1003665.0|\n",
            "|1004042|           242|                 9643.0|         61.0|      23761.0|   1004042.0|\n",
            "|1004266|            44|                 7894.0|        124.0|      16825.0|   1004266.0|\n",
            "+-------+--------------+-----------------------+-------------+-------------+------------+\n",
            "only showing top 20 rows\n",
            "\n"
          ]
        }
      ],
      "source": [
        "# Create a new DF -> Calculate frecuency, min, max, total and avg purchase per user\n",
        "df.groupBy(\"User_Id\").agg(f.count(\"User_Id\"),f.round(f.mean(\"Purchase\")),\\\n",
        "f.min(\"Purchase\"),\\\n",
        "f.max(\"Purchase\"),\\\n",
        "f.avg(\"User_Id\")).show()"
      ]
    },
    {
      "cell_type": "markdown",
      "metadata": {
        "id": "5VACNcAmuuOR"
      },
      "source": [
        "## Rename, create and drop columns"
      ]
    },
    {
      "cell_type": "code",
      "execution_count": 123,
      "metadata": {
        "colab": {
          "base_uri": "https://localhost:8080/",
          "height": 0
        },
        "id": "K0tEPguutww6",
        "outputId": "7292ba4e-7866-46fc-b0da-d804547b3143"
      },
      "outputs": [
        {
          "name": "stdout",
          "output_type": "stream",
          "text": [
            "+-------+----------+------+----+----------+-------------+--------------------------+--------------+------------------+------------------+------------------+--------+------------+\n",
            "|pajaros|Product_ID|Gender| Age|Occupation|city_category|Stay_In_Current_City_Years|Marital_Status|Product_Category_1|Product_Category_2|Product_Category_3|Purchase|ity_category|\n",
            "+-------+----------+------+----+----------+-------------+--------------------------+--------------+------------------+------------------+------------------+--------+------------+\n",
            "|1000001| P00069042|     F|0-17|        10|         null|                         2|             0|                 3|              null|              null|  8370.0|        null|\n",
            "|1000001| P00248942|     F|0-17|        10|         null|                         2|             0|                 1|                 6|                14| 15200.0|        null|\n",
            "|1000001| P00087842|     F|0-17|        10|         null|                         2|             0|                12|              null|              null|  1422.0|        null|\n",
            "|1000001| P00085442|     F|0-17|        10|         null|                         2|             0|                12|                14|              null|  1057.0|        null|\n",
            "|1000002| P00285442|     M| 55+|        16|         null|                        4+|             0|                 8|              null|              null|  7969.0|        null|\n",
            "+-------+----------+------+----+----------+-------------+--------------------------+--------------+------------------+------------------+------------------+--------+------------+\n",
            "only showing top 5 rows\n",
            "\n"
          ]
        }
      ],
      "source": [
        "# Renaming column\n",
        "df.withColumnRenamed(\"User_Id\",\"dinero\").show(5)"
      ]
    },
    {
      "cell_type": "code",
      "execution_count": null,
      "metadata": {
        "id": "5gwIaowyvKB9"
      },
      "outputs": [],
      "source": [
        "# Renaming many column\n",
        "compra_df.withColumnRenamed(\"User_ID\", \"User_Number_ID\")\\\n",
        "  .withColumnRenamed(\"Frecuency\", \"Frec\")\\\n",
        "  .withColumnRenamed(\"Total_Purchase\", \"TP\")\\\n",
        "  .show(5)"
      ]
    },
    {
      "cell_type": "code",
      "execution_count": null,
      "metadata": {
        "id": "ZJ7V2_tFu9Bc"
      },
      "outputs": [],
      "source": [
        "# Creating new columns\n",
        "compra_df.withColumn(\"Range\", f.col(\"Max_Purchase\") - f.col(\"Min_Purchase\")).show(5)\n"
      ]
    },
    {
      "cell_type": "code",
      "execution_count": null,
      "metadata": {
        "id": "R72QlOUPvldm"
      },
      "outputs": [],
      "source": [
        "# Creating new columns\n",
        "compra_df.withColumn(\"Label\", f.when(f.col(\"Frecuency\") < 100, \"Menos 100 compras\")\\\n",
        "                              .when(f.col(\"Frecuency\") < 300, \"Mas de 100 y menos 300\")\\\n",
        "                              .otherwise(\"Más de 300\")).show(5)\n"
      ]
    },
    {
      "cell_type": "code",
      "execution_count": 139,
      "metadata": {
        "colab": {
          "base_uri": "https://localhost:8080/"
        },
        "id": "XZTUHzUQxrQW",
        "outputId": "0c08472b-71ec-4068-843e-01bbd7af3bb3"
      },
      "outputs": [
        {
          "data": {
            "text/plain": [
              "DataFrame[User_ID: string, Product_ID: string, Age: string, Occupation: string, city_category: double, Stay_In_Current_City_Years: string, Marital_Status: string, Product_Category_1: string, Product_Category_2: string, Product_Category_3: string, Purchase: float, ity_category: double]"
            ]
          },
          "execution_count": 139,
          "metadata": {},
          "output_type": "execute_result"
        }
      ],
      "source": [
        "# Drop one column\n",
        "df.drop(\"Gender\")"
      ]
    },
    {
      "cell_type": "code",
      "execution_count": null,
      "metadata": {
        "colab": {
          "base_uri": "https://localhost:8080/"
        },
        "id": "R_6LTgTpgW-t",
        "outputId": "3aafce5f-d3d1-48ee-c4bf-7f7efb92147c"
      },
      "outputs": [],
      "source": [
        "# Drop N columns\n",
        "dropear=[\"Gender\",\"Age\"]\n",
        "df.drop(*dropear)"
      ]
    }
  ],
  "metadata": {
    "colab": {
      "collapsed_sections": [],
      "name": "sergio_pérez_fernández_PySpark",
      "provenance": []
    },
    "kernelspec": {
      "display_name": "Python 3",
      "name": "python3"
    },
    "language_info": {
      "name": "python"
    }
  },
  "nbformat": 4,
  "nbformat_minor": 0
}
